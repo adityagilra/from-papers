{
 "metadata": {
  "name": ""
 },
 "nbformat": 3,
 "nbformat_minor": 0,
 "worksheets": [
  {
   "cells": [
    {
     "cell_type": "heading",
     "level": 2,
     "metadata": {},
     "source": [
      "Gilson et al 2010 review & 2009a-d,2010"
     ]
    },
    {
     "cell_type": "markdown",
     "metadata": {},
     "source": [
      "Gilson et al 2009a-d,2010 are a 5-part paper series in Biological Cybernetics for deducing recurrent network structure from a plasticity rule.  \n",
      "Here, I have my notes on a follow-up review paper:  \n",
      "Gilson, M., Burkitt, A., and van Hemmen, J.L. (2010). STDP in Recurrent Neuronal Networks. Front Comput Neurosci 4.  \n",
      "I might refer to the original papers for details.\n"
     ]
    },
    {
     "cell_type": "markdown",
     "metadata": {},
     "source": [
      "Change in weight of $j\\to i$ synapse during duration $T$ is:  \n",
      "$\\Delta J_{ij}(t)=\\eta \\left( \\sum_{t-T\\le t_j^n \\le t} w^{in} + \\sum_{t-T\\le t_i^m \\le t} w^{out} + \\sum_{t-T\\le t_j^n,t_i^m \\le t} W(\\cdot,t_j^n-t_i^m) \\right)$ ...(2)  \n",
      "where $t_j^n$ and $t_i^m$ are pre- and post-synaptic spike times indexed by $n$ and $m$; and the three RHS terms are weight changes due to pre-, post- and joint activity. In particular the third term is due to the STDP window."
     ]
    },
    {
     "cell_type": "markdown",
     "metadata": {},
     "source": [
      "If learning is sufficiently slow then spike trains can be averaged over resulting in a learning dynamics:  \n",
      "$\\dot{J_{ij}}=f(J_{ij};\\nu_j,\\nu_i)+g(J_{ij};C_{ij},d_{ij}^{ax}-d_{ij}^b)$ ....(4)  \n",
      "where firing rate:  \n",
      "$\\nu_i(t)\\equiv \\frac{1}{T}\\int_{t-T}^t \\langle S_i(t') \\rangle dt'$ ...(5),  \n",
      "and the spike-time covariance coefficient:  \n",
      "$C_{ij}(t,u)\\equiv \\frac{1}{T}\\int_{t-T}^t \\langle S_i(t')S_J(t'+u) \\rangle dt' - \\nu_i(t)\\nu_j(t)$ ...(6)  \n",
      "$d_{ij}^{ax}$ and $d_{ij}^b$ are axonal (pre-synaptic) and back-propagation (post-synaptic) delays respectively. $d_{ij}^{dend}$ the dendritic EPSP forward propagation delay does not enter.  \n",
      "[What about higher order correlations -- don't they enter?]  \n",
      "[Integration of triplet rules, what does that give?]"
     ]
    },
    {
     "cell_type": "code",
     "collapsed": false,
     "input": [],
     "language": "python",
     "metadata": {},
     "outputs": []
    }
   ],
   "metadata": {}
  }
 ]
}