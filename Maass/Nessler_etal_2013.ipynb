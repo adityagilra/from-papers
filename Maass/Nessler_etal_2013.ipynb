{
 "metadata": {
  "name": ""
 },
 "nbformat": 3,
 "nbformat_minor": 0,
 "worksheets": [
  {
   "cells": [
    {
     "cell_type": "heading",
     "level": 3,
     "metadata": {},
     "source": [
      "Bayesian Computation Emerges in Generic Cortical Microcircuits through Spike-Timing-Dependent Plasticity, PLOS Comp Biol, 2013,  \n",
      "\n",
      "Bernhard Nessler, Michael Pfeiffer, Lars Buesing, Wolfgang Maass"
     ]
    },
    {
     "cell_type": "markdown",
     "metadata": {},
     "source": [
      "\"synaptic weights can be understood as conditional probabilities, and the\n",
      "ensemble of all weights of a neuron as a generative model for high-dimensional inputs that - after learning - causes it to fire with a\n",
      "probability that depends on how well its current input agrees with\n",
      "this generative model.\""
     ]
    },
    {
     "cell_type": "markdown",
     "metadata": {},
     "source": [
      "Inputs $y_i$ are afferent to outputs $z_k$ with weights $w_{ki}$,  \n",
      "membrane potential $u_k = w_{k0}+\\sum_i w_{ki}y_i$  \n",
      "where $w_{k0}$ is the intrinsic excitability.  \n",
      "So firing probability $p(z_k\\text{ fires at time }t) \\propto \\exp(u_k(t)-I(t))$,  \n",
      "where $I(t)$ is global inhibition, making this a soft winner take all (WTA) circuit.  \n",
      "Thus Poisson rate can be taken as $r_k(t) = \\exp(u_k(t)-I(t))$."
     ]
    },
    {
     "cell_type": "markdown",
     "metadata": {},
     "source": [
      "[In Kappel et al 2014, $I(t) = \\log(\\sum_k \\exp(u_k(t)))$, but here not stated.]  \n",
      "Conditional probability that a spike at time $t$ came from $z_k$ is  \n",
      "$q_k(t)= \\frac{rdt}{Rdt} = \\frac{\\exp(u_k(t)-I(t))}{\\sum_j \\exp(u_j(t)-I(t))} = \\frac{\\exp(u_k(t))}{\\sum_j \\exp(u_j(t))}$."
     ]
    },
    {
     "cell_type": "code",
     "collapsed": false,
     "input": [],
     "language": "python",
     "metadata": {},
     "outputs": []
    }
   ],
   "metadata": {}
  }
 ]
}