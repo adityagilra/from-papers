{
 "metadata": {
  "name": ""
 },
 "nbformat": 3,
 "nbformat_minor": 0,
 "worksheets": [
  {
   "cells": [
    {
     "cell_type": "heading",
     "level": 1,
     "metadata": {},
     "source": [
      "Learning Precisely Timed Spikes, Neuron, 2014."
     ]
    },
    {
     "cell_type": "heading",
     "level": 2,
     "metadata": {},
     "source": [
      "Formalism"
     ]
    },
    {
     "cell_type": "markdown",
     "metadata": {},
     "source": [
      "Leaky Integrate and Fire neuron with $N$ input afferents spiking at $\\{t_i\\}$. Each afferent contributes to the membrane potential $w_ix_i$, $x_i = \\sum_{\\{t_i<t\\}} u(t-t_i)$, where $u(t)=U_0(\\exp(-t/\\tau_m)-\\exp(-t/\\tau_s))$, $U_0$ is chosen so that peak of $u(t)$ is $1$.\n",
      "\n",
      "$\\tau_m$ is the membrane time constant [very interesting -- didn't expect this to appear directly here! Won't dendritic properties change time constants? Perhaps this is only for LIF], and $\\tau_s$ is the synaptic time constant."
     ]
    },
    {
     "cell_type": "markdown",
     "metadata": {},
     "source": [
      "A spike if generated whenever $\\mathbf{w}^T\\mathbf{x} > U_t$."
     ]
    },
    {
     "cell_type": "markdown",
     "metadata": {},
     "source": [
      "Interesting way to include the spike reset in the equation:\n",
      "\n",
      "$U(t)=\\mathbf{w}^T\\mathbf{x}-U_t x_{reset}(t)$"
     ]
    },
    {
     "cell_type": "markdown",
     "metadata": {},
     "source": [
      "$x_{reset}(t) = \\sum_{\\{t_i<t\\}}\\exp(-(t-t_i)/\\tau_m)H(t-t_i)$\n",
      "\n",
      "[I've put in the Heaviside function.]"
     ]
    },
    {
     "cell_type": "code",
     "collapsed": false,
     "input": [],
     "language": "python",
     "metadata": {},
     "outputs": []
    }
   ],
   "metadata": {}
  }
 ]
}