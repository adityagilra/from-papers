{
 "metadata": {
  "name": ""
 },
 "nbformat": 3,
 "nbformat_minor": 0,
 "worksheets": [
  {
   "cells": [
    {
     "cell_type": "heading",
     "level": 2,
     "metadata": {},
     "source": [
      "Sadra Sadeh, Stefan Rotter and Stefano Cardanobile, 2013, 2014."
     ]
    },
    {
     "cell_type": "markdown",
     "metadata": {},
     "source": [
      "My notes on two papers by Sadeh, Rotter and Cardanobile:  \n",
      "Sadeh, S., Cardanobile, S., and Rotter, S. (2014). Mean-Field Analysis of Orientation Selectivity in Inhibition-Dominated Networks of Spiking Neurons. arXiv:1401.4668 [q-Bio].  \n",
      "Sadeh, S., and Rotter, S. (2013). Statistics and geometry of orientation selectivity in primary visual cortex. Biol Cybern 1\u201323."
     ]
    },
    {
     "cell_type": "heading",
     "level": 3,
     "metadata": {},
     "source": [
      "Sadeh and Rotter 2013  \n"
     ]
    },
    {
     "cell_type": "markdown",
     "metadata": {},
     "source": [
      "They show how orientation maps in V1 emerge from the geometry and statistics of clustered thalamo-cortical afferents from LGN. They further show its connection to the pattern of ocular dominance columns."
     ]
    },
    {
     "cell_type": "markdown",
     "metadata": {},
     "source": [
      "Experiment: In cats, there is a strong correlation between orientation pinwheel centers and ocular dominance column centers (Crair et al 1997a,b). In monkeys also, orientation pinwheels strictly avoid borders of ODCs, and tend to lie on ODC midlines (Obermayer and Blasdel 1993)."
     ]
    },
    {
     "cell_type": "markdown",
     "metadata": {},
     "source": [
      "Thalamo-cortical projections are columnar i.e. \u201cAxons initially grow to their correct locations and generate increasingly dense arborizations, with little evidence of overlap between adjacent columns.\u201d (Katz and Crowley 2002). They model this columnarity and not any columnarity in the recurrent cortical connections which is modeled homogeneous."
     ]
    },
    {
     "cell_type": "markdown",
     "metadata": {},
     "source": [
      "LGN receptive fields are a difference of Gaussians (DoG). Due to columnar afferents from the LGN the cortical receptive field is wider than that of individual LGN neurons.  \n",
      "\"If a neuron is located at the center of a column (as in Fig. 5b), no elongation of its receptive \ufb01eld results, as a single, isotropic columnar receptive \ufb01eld is dominating it. In contrast, if a neuron is located between two columns, it sees effectively\n",
      "two neighboring columnar receptive \ufb01elds, which leads to an\n",
      "elongation of its combined receptive \ufb01eld. This neuron now\n",
      "becomes orientation selective, responding best to a stimulus\n",
      "orientation of the line connecting the two columns (Fig. 5c).\""
     ]
    },
    {
     "cell_type": "code",
     "collapsed": false,
     "input": [],
     "language": "python",
     "metadata": {},
     "outputs": []
    }
   ],
   "metadata": {}
  }
 ]
}