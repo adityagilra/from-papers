{
 "metadata": {
  "name": ""
 },
 "nbformat": 3,
 "nbformat_minor": 0,
 "worksheets": [
  {
   "cells": [
    {
     "cell_type": "heading",
     "level": 1,
     "metadata": {},
     "source": [
      "Stefano Fusi and Xiao-Jing Wang, Arbib book chapter, 2014."
     ]
    },
    {
     "cell_type": "heading",
     "level": 2,
     "metadata": {},
     "source": [
      "Formalism"
     ]
    },
    {
     "cell_type": "markdown",
     "metadata": {},
     "source": [
      "For $\\mu$th memory, synaptic weights, $w_{ij} \\to w_{ij}+\\Delta w_{ij}$."
     ]
    },
    {
     "cell_type": "markdown",
     "metadata": {},
     "source": [
      "Strength of memory trace $\\mu$ can be estimated by the correlation between the synaptic weight matrix and its change due to $\\mu$th memory, subtracting from it that part which may be due to chance (when none of the memories being considered are stored in $w_{ij}$) i.e. :"
     ]
    },
    {
     "cell_type": "markdown",
     "metadata": {},
     "source": [
      "$M^\\mu = \\frac{1}{N_{syn}} \\sum_{ij}w_{ij}\\Delta w_{ij} - \\left( \\frac{1}{N_{syn}} \\sum_{ij}w_{ij} \\right)\\left( \\frac{1}{N_{syn}} \\sum_{ij}\\Delta w_{ij} \\right)$"
     ]
    },
    {
     "cell_type": "heading",
     "level": 2,
     "metadata": {},
     "source": [
      "Unbounded synapses: Hopfield model"
     ]
    },
    {
     "cell_type": "markdown",
     "metadata": {},
     "source": [
      "In a Hopfield network, synapses are unbounded, $\\Delta w_{ij} = \\pm1$.\n",
      "\n",
      "Also, mean synaptic weight change is 0.\n",
      "\n",
      "$\\sum_{ij}\\Delta w_{ij} = 0$\n",
      "\n",
      "so,\n",
      "\n",
      "$M^\\mu = \\frac{1}{N_{syn}} \\sum_{ij}w_{ij}\\Delta w_{ij}.$"
     ]
    },
    {
     "cell_type": "markdown",
     "metadata": {},
     "source": [
      "For the first memory starting from zero weights:\n",
      "\n",
      "$M^1 = \\frac{1}{N_{syn}} \\sum_{ij} (\\Delta w^1_{ij})^2 = 1$."
     ]
    },
    {
     "cell_type": "markdown",
     "metadata": {},
     "source": [
      "Signal for memory $1$ is\n",
      "\n",
      "$S=\\left< M^1\\right> = \\left< \\frac{1}{N_{syn}} \\sum_{ij}w_{ij}\\Delta w_{ij} \\right> = \\left< \\frac{1}{N_{syn}} \\sum_{ij}\\sum_{\\mu=1}^{p} w_{ij}^p \\Delta w_{ij} \\right>$\n",
      "\n",
      "where the average is over all random sequences of $p$ memories weighted by their occurrence probabilities."
     ]
    },
    {
     "cell_type": "markdown",
     "metadata": {},
     "source": [
      "For a Hopfield network, $S=1$ for arbitrary $p$ until blackout catastrophe.\n",
      "\n",
      "Memory noise $N=\\sqrt{\\left<\\left(M^1 - \\left<M^1\\right>\\right)^2 \\right>}$.\n",
      "\n",
      "For a Hopfield model, $N=\\frac{1}{2} \\sqrt{\\frac{p}{N_{syn}}}$. [I'm not getting the factor of $1/2$.]"
     ]
    },
    {
     "cell_type": "markdown",
     "metadata": {},
     "source": [
      "Memories are accessible while $S>N$."
     ]
    },
    {
     "cell_type": "markdown",
     "metadata": {},
     "source": [
      "This gives an upper bound of $p \\sim N_{syn}$. However, a more accurate bound for the Hopfield network is $p=0.14C$, where $C$ are the number of synapses per neuron."
     ]
    },
    {
     "cell_type": "heading",
     "level": 2,
     "metadata": {},
     "source": [
      "Bounded synapses"
     ]
    },
    {
     "cell_type": "markdown",
     "metadata": {},
     "source": [
      "With bounded synapses, and offline (one-shot initial) learning, $p \\sim 0.1C$. Indeed $S\\sim 1/\\sqrt{p}$, and $N=1/\\sqrt{N_{syn}}$.\n",
      "\n",
      "For a memory system with constant rate of addition of memories, the number of memories $p$ may be used as a proxy for time."
     ]
    },
    {
     "cell_type": "markdown",
     "metadata": {},
     "source": [
      "With online learning, a two-state synapse erases any previous information when a new memory comes in. Thus weights are updated with probability $q$."
     ]
    },
    {
     "cell_type": "markdown",
     "metadata": {},
     "source": [
      "$S(t)\\approx q\\exp(-qt) \\approx q\\exp(-qp)$"
     ]
    },
    {
     "cell_type": "markdown",
     "metadata": {},
     "source": [
      "$N\\approx \\frac{1}{2\\sqrt{N_{syn}}}$"
     ]
    },
    {
     "cell_type": "markdown",
     "metadata": {},
     "source": [
      "Catastrophic forgetting occurs when $p\\gtrsim \\frac{\\log(q\\sqrt{N_{syn}})}{q}$. This is much smaller than above bounds."
     ]
    },
    {
     "cell_type": "heading",
     "level": 3,
     "metadata": {},
     "source": [
      "Stability-plasticity dilemna"
     ]
    },
    {
     "cell_type": "markdown",
     "metadata": {},
     "source": [
      "Slow synapses ($q\\to 0$) retain memory over long time scales but don't form memories easily.\n",
      "Initial $S/N$ is large but $p$ is not extensive i.e. does not scale (scales very slowly) with $N_{syn}$.\n",
      "There is a limit to slow synapses ($q\\sim 1/\\sqrt{N_{syn}}$), that allows the initial $S/N$ to remain finite.\n",
      "\n",
      "Fast synapses ($q\\to 1$) lose memory quickly, but form new ones easily.\n",
      "$p\\sim \\sqrt{N_{syn}}$, but now initial $S/N$ is not extensive i.e. does not scale with $N_{syn}$."
     ]
    },
    {
     "cell_type": "heading",
     "level": 2,
     "metadata": {},
     "source": [
      "Multiple time scales"
     ]
    },
    {
     "cell_type": "markdown",
     "metadata": {},
     "source": [
      "This is one possible solution to the stability-plasticity dilemna. See Roxin and Fusi 2013."
     ]
    },
    {
     "cell_type": "heading",
     "level": 3,
     "metadata": {},
     "source": [
      "Aside:"
     ]
    },
    {
     "cell_type": "markdown",
     "metadata": {},
     "source": [
      "Marcus Benna and Stefano optimized the decay of synapses to have large memory capacity and long memory lifetime, and found that the decay should go as $1/\\sqrt{t}$.\n",
      "This is reminiscent of a diffusive process, but it is not just a simple diffusion of synaptic receptors [there was some argument against this -- perhaps it was just that there is a biochemical cascade and receptors are bound to the membrane and not just diffusing??]"
     ]
    },
    {
     "cell_type": "code",
     "collapsed": false,
     "input": [],
     "language": "python",
     "metadata": {},
     "outputs": []
    }
   ],
   "metadata": {}
  }
 ]
}