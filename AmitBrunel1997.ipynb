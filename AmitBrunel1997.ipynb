{
 "metadata": {
  "name": ""
 },
 "nbformat": 3,
 "nbformat_minor": 0,
 "worksheets": [
  {
   "cells": [
    {
     "cell_type": "heading",
     "level": 1,
     "metadata": {},
     "source": [
      "Model of global spontaneous activity and local structured activity during delay periods in the cerebral cortex.\n",
      "Amit and Brunel, 1997"
     ]
    },
    {
     "cell_type": "heading",
     "level": 2,
     "metadata": {},
     "source": [
      "Methods"
     ]
    },
    {
     "cell_type": "markdown",
     "metadata": {},
     "source": [
      "$\\tau \\dot{V}=-V(t)+I(t)$ ...Eqn(1)  \n",
      "[Voltage and current have same units.]\n",
      "\n",
      "Synaptic efficacies (voltage units) are assumed to be distributed as $P(J)$ with mean $J$ and standard deviation $\\Delta J$. Synaptic current follows the dynamics (Each synapse is a single exponential decaying synapse):\n",
      "\n",
      "$\\tau' \\dot{I}=-I(t) + \\sum_i J_i \\tau \\sum_k \\delta(t-t_i^k)$ ...Eqn(2)  \n",
      "[$J_i$ has voltage units, $\\delta$ function has 1/time units.]  \n",
      "[Why should membrane time constant appear here? Ideally it is $V-V_{reversal}$ that appears. $V$ has dynamics at time scales of $\\tau$, so there is some justification...]"
     ]
    },
    {
     "cell_type": "markdown",
     "metadata": {},
     "source": [
      "If $\\tau'<<\\tau$, then  \n",
      "$\\tau\\dot{V}=-V(t)+\\sum_i J_i\\tau\\sum_k\\delta(t-t_i^k)$ ...Eqn(3)"
     ]
    },
    {
     "cell_type": "markdown",
     "metadata": {},
     "source": [
      "Thus, integrating a single synaptic event at $t=0$, we get an EPSP:  \n",
      "$V(t)=V(0)\\exp(-t/\\tau)+J_i\\exp(-t/\\tau)$ for $t>0$."
     ]
    },
    {
     "cell_type": "markdown",
     "metadata": {},
     "source": [
      "Assume low input rate $\\nu$, but many synaptic inputs $C$ and long enough interval $\\tau$, such that number of incoming spikes are high in interval $\\tau$. Then the summed synaptic current $I(t)$ over interval $\\tau$ has a Gaussian distribution with mean $\\mu(\\nu)$ and SD $\\sigma(\\nu)$."
     ]
    },
    {
     "cell_type": "heading",
     "level": 4,
     "metadata": {},
     "source": [
      "Simplified IF neuron"
     ]
    },
    {
     "cell_type": "markdown",
     "metadata": {},
     "source": [
      "Assume, no decay of membrane potential in interval $\\tau$, then with threshold $\\theta$, the probability of a spike occurring in interval $\\tau$ is:  \n",
      "$Pr(\\nu) = \\int_\\theta^\\infty \\frac{dI}{\\sqrt{2\\pi\\sigma^2(\\nu)}} \\exp\\left(-\\frac{\\left(I-\\mu(\\nu)\\right)^2}{2\\sigma^2(\\nu)}\\right)$  ...Eqn(4)  \n",
      "[I think this assumes Gaussian white noise, i.e. all possible values are attained in interval $\\tau$. What about the Gaussian noise\n",
      "generated algorithmically sampled at $\\Delta t$.]\n",
      "\n",
      "The resulting output spike rate is $\\nu_{out}=Pr(\\nu)/\\tau$ ...Eqn(6)."
     ]
    },
    {
     "cell_type": "heading",
     "level": 4,
     "metadata": {},
     "source": [
      "Full LIF Neuron"
     ]
    },
    {
     "cell_type": "markdown",
     "metadata": {},
     "source": [
      "look up mean first passage time derivations..."
     ]
    },
    {
     "cell_type": "heading",
     "level": 2,
     "metadata": {},
     "source": [
      "Results"
     ]
    },
    {
     "cell_type": "markdown",
     "metadata": {},
     "source": [
      "For the simplified IF neuron assuming no decay in interval $\\tau$, we have the mean and SD of the summed current over interval $\\tau$ as:\n",
      "\n",
      "$\\mu(\\nu) = JC\\nu\\tau$, where $C$ are the number of synapses; $\\sigma(\\nu) = J\\sqrt{C\\nu\\tau(1+\\Delta^2)}$ ...Eqn(8).  \n",
      "Note that $\\Delta J$ is the variance in the synaptic efficacies, and there is a variance due to Poisson spikes."
     ]
    },
    {
     "cell_type": "code",
     "collapsed": false,
     "input": [],
     "language": "python",
     "metadata": {},
     "outputs": []
    }
   ],
   "metadata": {}
  }
 ]
}