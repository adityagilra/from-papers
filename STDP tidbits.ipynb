{
 "metadata": {
  "name": ""
 },
 "nbformat": 3,
 "nbformat_minor": 0,
 "worksheets": [
  {
   "cells": [
    {
     "cell_type": "heading",
     "level": 1,
     "metadata": {},
     "source": [
      "Interesting STDP results collated"
     ]
    },
    {
     "cell_type": "heading",
     "level": 2,
     "metadata": {},
     "source": [
      "weight updates"
     ]
    },
    {
     "cell_type": "markdown",
     "metadata": {},
     "source": [
      "A very good review is:  \n",
      "Morrison, Abigail, Markus Diesmann, and Wulfram Gerstner. 2008.\u201cPhenomenological Models of Synaptic Plasticity Based on Spike Timing.\u201d Biological Cybernetics 98 (6): 459\u201378. doi:10.1007/s00422-008-0233-1.  \n",
      "\n",
      "$x$, $j$ are presynaptic; $y$, $i$ are postsynaptic.  \n",
      "$\\Delta w_{ij}^+(t_i^f) = F_+(w_{ij})x_j(t_i^f)$  \n",
      "$\\Delta w_{ij}^-(t_j^f) = -F_-(w_{ij})y_i(t_j^f)$  "
     ]
    },
    {
     "cell_type": "markdown",
     "metadata": {},
     "source": [
      "4.2.1 Triplet rule (Pfister and Gerstner 2006) using local variables:  \n",
      "There is a fast and a slow postsynaptic variable.  \n",
      "$dx_j/dt = -x_j/\\tau_x + \\sum_f \\delta(t-t_j^f)$  \n",
      "$dy_i^1/dt = -y_i^1/\\tau_1 + \\sum_f \\delta(t-t_i^f)$  \n",
      "$dy_i^2/dt = -y_i^2/\\tau_2 + \\sum_f \\delta(t-t_i^f)$  \n",
      "(Somehow, the sum on the postsynaptic spikes is left out in the paper?!)  \n",
      "Weight update on each postsynaptic spike: \n",
      "(the extra $y_i^2$ factor makes the rule postsynaptic weight dependent)\n",
      "$\\Delta w_{ij}^+(t_y^f) = F_+(w_{ij})x_j(t_i^f)y_i^2(t_i^{f^-})$  \n",
      "$t_i^{f^-}$ indicates that $y_i^2$ from previous time step should be used."
     ]
    },
    {
     "cell_type": "markdown",
     "metadata": {},
     "source": [
      "Using a Focker-Planck mean field approximation, and assuming that pre- and post-syanptic trains are independent Poisson processes with the same rate,  \n",
      "$\\dot{w}/\\nu^2 = -F_i(w)\\tau_- + F_+(w)\\tau_+$.  \n",
      "For all rules except additive, there is a stable fixed point at a non-zero $w$.  \n",
      "\n",
      "But, no fixed point for additive STDP with above assumptions. Assuming an inhomogeneous Poisson postsynaptic neuron with a threshold rate $\\nu_0>0$, the postsynaptic spike train is correlated with the input. Futher assuming integral over the STDP curve $=-C<0$, the fixed point is   \n",
      "$\\nu_{FP} = \\frac{C_{ss}\\nu_0}{NC\\nu\\bar{\\epsilon}-C_{ss}}$.  \n",
      "This also holds for multiplicative STDP, except that the RHS will have weight dependent terms.\n",
      "For additive STDP, we have rate homeostasis above! It implies normalization of the summed inputs.  \n",
      "\n",
      "The existence of a fixed point and its stability do not crucially depend on the presence of soft or hard or no bounds on the weights."
     ]
    },
    {
     "cell_type": "markdown",
     "metadata": {},
     "source": [
      "Reward-based or supervised learning -- learning only done when required, else switched off -- will lead to longer time scales of memory retention, background firing will not lead to potentiation / depression.\n",
      "\n",
      "But for unsupervised learning, STDP must be constantly on. In a simple model of maintenance, Fusi et al 2000 and Gerstner and Kistler 2002, a slow bistable dynamics is added over STDP, such that weights go to 0 or 1, which are stable fixed points, at a slow time scale, and only strong stimuli can activate the fast dynamics."
     ]
    },
    {
     "cell_type": "markdown",
     "metadata": {},
     "source": [
      "Van Rossum, Mark C. W., Maria Shippi, and Adam B. Barrett. 2012. \u201cSoft-Bound Synaptic Plasticity Increases Storage Capacity.\u201d PLoS Comput Biol 8 (12): e1002836. doi:10.1371/journal.pcbi.1002836.\n",
      "\n",
      "Around equation 3: in experiments what is seen is $\\Delta w^+/w = a/w$ and $\\Delta w^-/w = -b$. Hence, you get the rule: $\\Delta w^+ = a$ and $\\Delta w^- = -bw$.  \n",
      "The additive rule is equivalent to experimentally observing: $\\Delta w^+/w = a/w$ and $\\Delta w^-/w = -b/w$."
     ]
    },
    {
     "cell_type": "markdown",
     "metadata": {},
     "source": [
      "Billings, Guy, and Mark C. W. van Rossum. 2009. \u201cMemory Retention and Spike Timing Dependent Plasticity.\u201d Journal of Neurophysiology, March. doi:10.1152/jn.91007.2008."
     ]
    }
   ],
   "metadata": {}
  }
 ]
}