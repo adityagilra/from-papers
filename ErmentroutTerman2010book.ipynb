{
 "metadata": {
  "name": ""
 },
 "nbformat": 3,
 "nbformat_minor": 0,
 "worksheets": [
  {
   "cells": [
    {
     "cell_type": "heading",
     "level": 1,
     "metadata": {},
     "source": [
      "Ermentrout and Terman, Mathematical Foundations of Neuroscience"
     ]
    },
    {
     "cell_type": "heading",
     "level": 2,
     "metadata": {},
     "source": [
      "Chapter 10: Noise"
     ]
    },
    {
     "cell_type": "markdown",
     "metadata": {},
     "source": [
      "Langevin equation $dX=A(X,t)dt+B(X,t)dW(t)$, where $X\\in \\mathbb{R}^n$, $A$ are drift coefficients, $B$ are diffusion coefficients ($n\\times n$ matrix of functions), $W(t)$ is a vector of independent Wiener processes. Eqn (10.1)\n",
      "\n",
      "Solving numerically for scalar $X$, for a small time step $h$,\n",
      "$X(n+1)=X(n)+A(X(n),t)h+B(X(n),t)\\sqrt{h}\\hat{N}(0,1)$, where $\\hat{N}(0,1)$ is a vector of normally ditributed independent random numbers with zero mean and unit variance."
     ]
    },
    {
     "cell_type": "heading",
     "level": 3,
     "metadata": {},
     "source": [
      "10.1 Stochastic differential Equations"
     ]
    },
    {
     "cell_type": "markdown",
     "metadata": {},
     "source": [
      "Wiener process $W(t)$ is the limiting case of a random walk as the steps and the time between steps get smaller such that $(\\Delta x)^2/\\Delta t \\to 1$. Can simulate a standard Wiener process by the iteration $W(t+h)=W(t)+\\sqrt{h}\\hat{N}(0,1)$.\n",
      "\n",
      "Stochastic integrals: $I=\\int_{t_0}^t G(s)dW(s)$, where $G(t)$ is a piece-wise continuous function. Approximating, $S(n)=\\sum_{j=1}^{n}G(\\tau_j)(W(t_j)-W(t_{j-1}))$. For a Riemann integral, any $t_j<\\tau_j<t_{j-1}$ will do. But for stochastic integration, the choice of $\\tau_j$ matters. Ito integral: $\\tau_j=t_{j-1}$. Stratonovich integral: $\\tau_j=(t_j+t_{j-1})/2$. In neural modeling, people prefer Stratonovich if noise has correlations and we take limit as correlation time goes to zero. If $B$ is constant in equation (10.1), then both are equivalent."
     ]
    },
    {
     "cell_type": "code",
     "collapsed": false,
     "input": [],
     "language": "python",
     "metadata": {},
     "outputs": []
    }
   ],
   "metadata": {}
  }
 ]
}