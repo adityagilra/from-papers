{
 "metadata": {
  "name": ""
 },
 "nbformat": 3,
 "nbformat_minor": 0,
 "worksheets": [
  {
   "cells": [
    {
     "cell_type": "heading",
     "level": 1,
     "metadata": {},
     "source": [
      "Two types of asynchronous activity in networks of excitatory and inhibitory spiking neurons,\n",
      "Srdjan Ostojic, Nature Neuroscience, 2014"
     ]
    },
    {
     "cell_type": "heading",
     "level": 2,
     "metadata": {},
     "source": [
      "Materials and Methods"
     ]
    },
    {
     "cell_type": "heading",
     "level": 3,
     "metadata": {},
     "source": [
      "Model"
     ]
    },
    {
     "cell_type": "markdown",
     "metadata": {},
     "source": [
      "$N=10000$ LIF neurons, $f=0.8$ are excitatory, rest inhibitory."
     ]
    },
    {
     "cell_type": "markdown",
     "metadata": {},
     "source": [
      "$\\tau_m \\frac{dV_i}{dt}=-V_i + \\mu_0 + R I_i(t) + \\mu_{ext}(t)$"
     ]
    },
    {
     "cell_type": "markdown",
     "metadata": {},
     "source": [
      "0 mV resting, 20 mV threshold, 10 mV reset, 0.5 ms refractory period, rest self-explanatory, values in text."
     ]
    },
    {
     "cell_type": "markdown",
     "metadata": {},
     "source": [
      "synaptic input:\n",
      "\n",
      "$RI_i(t)=\\tau_m \\sum_j J_{ij}\\sum_k\\delta(t-t_k^{(j)}-\\Delta)$\n",
      "\n",
      "$\\Delta = 0.55$ ms is the synaptic delay. Delay is needed else spikes within refractory period have no effect. [Don't understand this logic -- only needed if there is some clock or synchronous computation, else some other spike will appear during the refractory period.]"
     ]
    },
    {
     "cell_type": "markdown",
     "metadata": {},
     "source": [
      "Excitatory synapses have strength $J$, while inhibitory synapses have strength $-gJ$."
     ]
    },
    {
     "cell_type": "heading",
     "level": 3,
     "metadata": {},
     "source": [
      "Mean field theory"
     ]
    },
    {
     "cell_type": "markdown",
     "metadata": {},
     "source": [
      "Validity regime:\n",
      "\n",
      "Each neuron receives a large number of small inputs (each too small to generate AP). Then the total synaptic input to a neuron can be approximated by a Gaussian white noise process that is independent across neurons.\n"
     ]
    },
    {
     "cell_type": "markdown",
     "metadata": {},
     "source": [
      "Homogeneous network:\n",
      "\n",
      "Assume each neuron emits spikes as a Poisson process of constant rate $\\nu_0$. Then the mean $\\mu$ and s.d. $\\sigma$ of the equivalent white noise input are given by (Amit and Brunel, 1997 Eqn(8) -- see my ipynb):"
     ]
    },
    {
     "cell_type": "markdown",
     "metadata": {},
     "source": [
      "$\\mu = \\mu_0 + JC(f-(1-f)g)\\tau_m\\nu_0$\n",
      "\n",
      "$\\sigma^2 = \\tau_m\\nu_0CJ^2(f-(1-f)g^2)$  \n",
      "\n",
      "where $C$ are the number of synapses per neuron. This is an approximation assuming membrane potential does not decay in time $\\tau_m$."
     ]
    },
    {
     "cell_type": "markdown",
     "metadata": {},
     "source": [
      "When $g=f/(1-f)$, mean $\\mu$ vanishes i.e. balance of excitation and inhibition."
     ]
    },
    {
     "cell_type": "code",
     "collapsed": false,
     "input": [
      "import sympy as sym\n",
      "from sympy import *\n",
      "from sympy import init_printing; init_printing()"
     ],
     "language": "python",
     "metadata": {},
     "outputs": [],
     "prompt_number": 2
    },
    {
     "cell_type": "code",
     "collapsed": false,
     "input": [
      "mu, sigma, tau_m, nu_0, C, J, f, g, mu_0 = symbols('mu sigma tau_m nu_0 C J f g mu_0')\n",
      "mu_expr = tau_m*nu_0*C*J*(f-(1-f)*g)+mu_0\n",
      "mu_expr"
     ],
     "language": "python",
     "metadata": {},
     "outputs": [
      {
       "latex": [
        "$$C J \\nu_{0} \\tau_{m} \\left(f - g \\left(- f + 1\\right)\\right) + \\mu_{0}$$"
       ],
       "metadata": {},
       "output_type": "pyout",
       "png": "[encoded data removed]",
       "prompt_number": 16,
       "text": [
        "C\u22c5J\u22c5\u03bd\u2080\u22c5tau_m\u22c5(f - g\u22c5(-f + 1)) + \u03bc\u2080"
       ]
      }
     ],
     "prompt_number": 16
    },
    {
     "cell_type": "code",
     "collapsed": false,
     "input": [
      "sigma_expr = sqrt(tau_m*nu_0*C*J**2*(f+(1-f)*g**2))\n",
      "sigma_expr"
     ],
     "language": "python",
     "metadata": {},
     "outputs": [
      {
       "latex": [
        "$$\\sqrt{C J^{2} \\nu_{0} \\tau_{m} \\left(f + g^{2} \\left(- f + 1\\right)\\right)}$$"
       ],
       "metadata": {},
       "output_type": "pyout",
       "png": "[encoded data removed]",
       "prompt_number": 17,
       "text": [
        "   _________________________________\n",
        "  \u2571    2          \u239b     2         \u239e \n",
        "\u2572\u2571  C\u22c5J \u22c5\u03bd\u2080\u22c5tau_m\u22c5\u239df + g \u22c5(-f + 1)\u23a0 "
       ]
      }
     ],
     "prompt_number": 17
    },
    {
     "cell_type": "markdown",
     "metadata": {},
     "source": [
      "Equilibrium rate $\\nu_0$ is given by the self-consistency equation:\n",
      "\n",
      "$\\nu_0=F(\\mu(\\nu_0),\\sigma^2(\\nu_0))$ ...Eqn(1)\n",
      "\n",
      "where $F$ is the current-to-rate transfer function of the LIF neuron receiving a white noise input:"
     ]
    },
    {
     "cell_type": "code",
     "collapsed": false,
     "input": [
      "F, tau_r, V_th, V_r, u, nu = symbols('F tau_r V_th, V_r u nu')\n",
      "F_expr = ( tau_r + 2*tau_m*Integral( exp(u**2)*Integral(exp(-nu**2),(nu,-oo,0)) ,(u,V_r-mu/sigma,V_th-mu/sigma) ) )**-1\n",
      "F_expr"
     ],
     "language": "python",
     "metadata": {},
     "outputs": [
      {
       "latex": [
        "$$\\frac{1}{2 \\tau_{m} \\int_{V_{r} - \\frac{\\mu}{\\sigma}}^{V_{th} - \\frac{\\mu}{\\sigma}} e^{u^{2}} \\int_{-\\infty}^{0} e^{- \\nu^{2}}\\, d\\nu\\, du + \\tau_{r}}$$"
       ],
       "metadata": {},
       "output_type": "pyout",
       "png": "[encoded data removed]",
       "prompt_number": 18,
       "text": [
        "                    1                    \n",
        "\u2500\u2500\u2500\u2500\u2500\u2500\u2500\u2500\u2500\u2500\u2500\u2500\u2500\u2500\u2500\u2500\u2500\u2500\u2500\u2500\u2500\u2500\u2500\u2500\u2500\u2500\u2500\u2500\u2500\u2500\u2500\u2500\u2500\u2500\u2500\u2500\u2500\u2500\u2500\u2500\u2500\n",
        "               \u03bc                         \n",
        "        V_th - \u2500                         \n",
        "               \u03c3                         \n",
        "           \u2320                             \n",
        "           \u23ae           0                 \n",
        "           \u23ae           \u2320                 \n",
        "           \u23ae      \u239b 2\u239e \u23ae     2           \n",
        "           \u23ae      \u239du \u23a0 \u23ae   -\u03bd            \n",
        "2\u22c5tau_m\u22c5   \u23ae     \u212f    \u22c5\u23ae  \u212f    d\u03bd du + \u03c4\u1d63\n",
        "           \u23ae           \u2321                 \n",
        "           \u23ae           -\u221e                \n",
        "           \u2321                             \n",
        "              \u03bc                          \n",
        "         V\u1d63 - \u2500                          \n",
        "              \u03c3                          "
       ]
      }
     ],
     "prompt_number": 18
    },
    {
     "cell_type": "markdown",
     "metadata": {},
     "source": [
      "Vary firing rate of $j$th neuron: $\\nu_0 \\to \\nu_0+\\nu_j(t)$.\n",
      "\n",
      "Mean $\\mu_i = \\mu + \\tau_m\\sum_i J_ij\\nu_j(t)$ ...Eqn(9).\n",
      "\n",
      "Variance $\\sigma_i^2 = \\sigma^2 + \\tau_m\\sum_i J_{ij}^2\\nu_j(t)$ ...Eqn(10).\n",
      "\n",
      "[You can break a Poisson delta-function train with rate $\\nu_0+\\nu_j$ as a 'sum' of Poisson delta-function trains with rates $\\nu_0$ and $\\nu_j$. Think of it as a process which produces a spike with probability $(\\nu_0+\\nu_j)dt$ in time $dt$. But if for some crazy reason you add the corresponding spike-times up, then the summed-spike-time distribution tends to a Gaussian by the Central Limit Theorem. However here, the number of spikes in time $\\tau_m$ multiplied by $J$ are being added giving a Gaussian distribution.]"
     ]
    },
    {
     "cell_type": "code",
     "collapsed": false,
     "input": [],
     "language": "python",
     "metadata": {},
     "outputs": []
    }
   ],
   "metadata": {}
  }
 ]
}